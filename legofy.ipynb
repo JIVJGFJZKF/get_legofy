{
 "cells": [
  {
   "cell_type": "code",
   "execution_count": 1,
   "id": "f9832765-b272-462e-83f8-34fc930070d4",
   "metadata": {},
   "outputs": [],
   "source": [
    "import legofy\n",
    "import glob"
   ]
  },
  {
   "cell_type": "code",
   "execution_count": 2,
   "id": "d82bd567-56f9-41af-ad27-0244feb41217",
   "metadata": {},
   "outputs": [
    {
     "name": "stdout",
     "output_type": "stream",
     "text": [
      "3\n",
      "./ImgIn_Maggiorre.jpeg\n",
      "./ImgIn_MilleniumFalcon.png\n",
      "./ImgIn_Afremov.jpeg\n"
     ]
    }
   ],
   "source": [
    "vec_images = glob.glob('./ImgIn_*')\n",
    "print(len(vec_images))\n",
    "print('\\n'.join(vec_images))"
   ]
  },
  {
   "cell_type": "code",
   "execution_count": 3,
   "id": "c5e452d9-e09f-41cc-b71c-af481a957ae8",
   "metadata": {},
   "outputs": [],
   "source": [
    "vec_pallettes = ['All','Solid','Effects']"
   ]
  },
  {
   "cell_type": "code",
   "execution_count": 4,
   "id": "bd0ef255-d5e2-45ff-b668-ad1d69326d58",
   "metadata": {},
   "outputs": [
    {
     "name": "stdout",
     "output_type": "stream",
     "text": [
      "LEGO Palette All selected...\n",
      "Static image detected, will now legofy to ./Out_AllMaggiorre.jpeg\n",
      "Finished!\n",
      "LEGO Palette Solid selected...\n",
      "Static image detected, will now legofy to ./Out_SolidMaggiorre.jpeg\n",
      "Finished!\n",
      "LEGO Palette Effects selected...\n",
      "Static image detected, will now legofy to ./Out_EffectsMaggiorre.jpeg\n",
      "Finished!\n",
      "LEGO Palette All selected...\n",
      "Static image detected, will now legofy to ./Out_AllMilleniumFalcon.png\n",
      "Finished!\n",
      "LEGO Palette Solid selected...\n",
      "Static image detected, will now legofy to ./Out_SolidMilleniumFalcon.png\n",
      "Finished!\n",
      "LEGO Palette Effects selected...\n",
      "Static image detected, will now legofy to ./Out_EffectsMilleniumFalcon.png\n",
      "Finished!\n",
      "LEGO Palette All selected...\n",
      "Static image detected, will now legofy to ./Out_AllAfremov.jpeg\n",
      "Finished!\n",
      "LEGO Palette Solid selected...\n",
      "Static image detected, will now legofy to ./Out_SolidAfremov.jpeg\n",
      "Finished!\n",
      "LEGO Palette Effects selected...\n",
      "Static image detected, will now legofy to ./Out_EffectsAfremov.jpeg\n",
      "Finished!\n",
      "CPU times: user 1min 13s, sys: 336 ms, total: 1min 13s\n",
      "Wall time: 1min 13s\n"
     ]
    }
   ],
   "source": [
    "%%time\n",
    "for i,file_input in enumerate(vec_images):\n",
    "    for j,pallette in enumerate(vec_pallettes):\n",
    "        file_out = file_input.replace('ImgIn_','Out_'+pallette)\n",
    "        im_lego = legofy.main(image_path=file_input,output_path=file_out,palette_mode=str.lower(pallette),size=250)"
   ]
  },
  {
   "cell_type": "code",
   "execution_count": null,
   "id": "506c5d66-458a-4d1e-b249-ca21a05cabd4",
   "metadata": {},
   "outputs": [],
   "source": []
  }
 ],
 "metadata": {
  "kernelspec": {
   "display_name": "Python 3 (ipykernel)",
   "language": "python",
   "name": "python3"
  },
  "language_info": {
   "codemirror_mode": {
    "name": "ipython",
    "version": 3
   },
   "file_extension": ".py",
   "mimetype": "text/x-python",
   "name": "python",
   "nbconvert_exporter": "python",
   "pygments_lexer": "ipython3",
   "version": "3.9.7"
  }
 },
 "nbformat": 4,
 "nbformat_minor": 5
}
