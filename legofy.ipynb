{
 "cells": [
  {
   "cell_type": "code",
   "execution_count": 1,
   "id": "ec958f63",
   "metadata": {},
   "outputs": [],
   "source": [
    "import legofy\n",
    "import glob"
   ]
  },
  {
   "cell_type": "code",
   "execution_count": 2,
   "id": "ec0cf73f",
   "metadata": {},
   "outputs": [],
   "source": [
    "import os\n",
    "from PIL import Image, ImageSequence\n",
    "import pandas as pd\n",
    "import numpy as np"
   ]
  },
  {
   "cell_type": "code",
   "execution_count": null,
   "id": "423caade",
   "metadata": {},
   "outputs": [],
   "source": []
  },
  {
   "cell_type": "markdown",
   "id": "7d27641d",
   "metadata": {},
   "source": [
    "# Color Blocks for Samples\n",
    "This will produce a dataframe of the bricks and associated color palette.  This can be used to show the bricks, so that ordering can be simplified.  It would be useful to correspond the `lego_id` to a brick ID value."
   ]
  },
  {
   "cell_type": "code",
   "execution_count": 3,
   "id": "22113398",
   "metadata": {},
   "outputs": [
    {
     "name": "stdout",
     "output_type": "stream",
     "text": [
      "(53, 6)\n"
     ]
    },
    {
     "data": {
      "text/html": [
       "<div>\n",
       "<style scoped>\n",
       "    .dataframe tbody tr th:only-of-type {\n",
       "        vertical-align: middle;\n",
       "    }\n",
       "\n",
       "    .dataframe tbody tr th {\n",
       "        vertical-align: top;\n",
       "    }\n",
       "\n",
       "    .dataframe thead th {\n",
       "        text-align: right;\n",
       "    }\n",
       "</style>\n",
       "<table border=\"1\" class=\"dataframe\">\n",
       "  <thead>\n",
       "    <tr style=\"text-align: right;\">\n",
       "      <th></th>\n",
       "      <th>lego_id</th>\n",
       "      <th>type</th>\n",
       "      <th>col_r</th>\n",
       "      <th>col_g</th>\n",
       "      <th>col_b</th>\n",
       "      <th>lego_id_num</th>\n",
       "    </tr>\n",
       "  </thead>\n",
       "  <tbody>\n",
       "    <tr>\n",
       "      <th>47</th>\n",
       "      <td>131</td>\n",
       "      <td>effects</td>\n",
       "      <td>141</td>\n",
       "      <td>148</td>\n",
       "      <td>150</td>\n",
       "      <td>131</td>\n",
       "    </tr>\n",
       "    <tr>\n",
       "      <th>49</th>\n",
       "      <td>148</td>\n",
       "      <td>effects</td>\n",
       "      <td>73</td>\n",
       "      <td>63</td>\n",
       "      <td>59</td>\n",
       "      <td>148</td>\n",
       "    </tr>\n",
       "    <tr>\n",
       "      <th>50</th>\n",
       "      <td>294</td>\n",
       "      <td>effects</td>\n",
       "      <td>254</td>\n",
       "      <td>252</td>\n",
       "      <td>213</td>\n",
       "      <td>294</td>\n",
       "    </tr>\n",
       "    <tr>\n",
       "      <th>48</th>\n",
       "      <td>297</td>\n",
       "      <td>effects</td>\n",
       "      <td>170</td>\n",
       "      <td>127</td>\n",
       "      <td>46</td>\n",
       "      <td>297</td>\n",
       "    </tr>\n",
       "    <tr>\n",
       "      <th>51</th>\n",
       "      <td>001</td>\n",
       "      <td>mono</td>\n",
       "      <td>244</td>\n",
       "      <td>244</td>\n",
       "      <td>244</td>\n",
       "      <td>1</td>\n",
       "    </tr>\n",
       "  </tbody>\n",
       "</table>\n",
       "</div>"
      ],
      "text/plain": [
       "   lego_id     type  col_r  col_g  col_b  lego_id_num\n",
       "47     131  effects    141    148    150          131\n",
       "49     148  effects     73     63     59          148\n",
       "50     294  effects    254    252    213          294\n",
       "48     297  effects    170    127     46          297\n",
       "51     001     mono    244    244    244            1"
      ]
     },
     "execution_count": 3,
     "metadata": {},
     "output_type": "execute_result"
    }
   ],
   "source": [
    "df_legos = legofy.get_palette_dataframe()\n",
    "print(df_legos.shape)\n",
    "df_legos.head()"
   ]
  },
  {
   "cell_type": "code",
   "execution_count": 4,
   "id": "c1aec172",
   "metadata": {},
   "outputs": [
    {
     "data": {
      "image/png": "[encoded data removed]",
      "text/plain": [
       "<PIL.Image.Image image mode=RGBA size=30x30 at 0x13A86D3D0>"
      ]
     },
     "execution_count": 4,
     "metadata": {},
     "output_type": "execute_result"
    }
   ],
   "source": [
    "img_brick = Image.open('./legofy/assets/bricks/1x1.png')\n",
    "legofy.apply_color_overlay(image=img_brick,color=df_legos.loc[5,['col_r','col_g','col_b']].tolist())"
   ]
  },
  {
   "cell_type": "code",
   "execution_count": 5,
   "id": "4fd5ee24",
   "metadata": {},
   "outputs": [],
   "source": [
    "df_legos.to_excel('./block_colors.xlsx',index=False)"
   ]
  },
  {
   "cell_type": "markdown",
   "id": "40cb87bd",
   "metadata": {},
   "source": [
    "# Convert Images"
   ]
  },
  {
   "cell_type": "code",
   "execution_count": 6,
   "id": "e5f0f2d2",
   "metadata": {},
   "outputs": [
    {
     "name": "stdout",
     "output_type": "stream",
     "text": [
      "1\n",
      "./Images_Input/MilleniumFalcon.png\n"
     ]
    }
   ],
   "source": [
    "vec_images = glob.glob('./Images_Input/*')\n",
    "print(len(vec_images))\n",
    "print('\\n'.join(vec_images))"
   ]
  },
  {
   "cell_type": "code",
   "execution_count": 7,
   "id": "a088ab0a",
   "metadata": {},
   "outputs": [],
   "source": [
    "vec_palettes = ['All','Solid','Effects']"
   ]
  },
  {
   "cell_type": "code",
   "execution_count": 8,
   "id": "0427717a",
   "metadata": {},
   "outputs": [
    {
     "name": "stdout",
     "output_type": "stream",
     "text": [
      "LEGO Palette All selected...\n",
      "Static image detected, will now legofy to ./Images_Output/All_MilleniumFalcon.png\n",
      "Finished!\n",
      "(250, 116)\n",
      "LEGO Palette Solid selected...\n",
      "Static image detected, will now legofy to ./Images_Output/Solid_MilleniumFalcon.png\n",
      "Finished!\n",
      "(250, 116)\n",
      "LEGO Palette Effects selected...\n",
      "Static image detected, will now legofy to ./Images_Output/Effects_MilleniumFalcon.png\n",
      "Finished!\n",
      "(250, 116)\n",
      "(47, 5)\n",
      "CPU times: user 1min 20s, sys: 952 ms, total: 1min 21s\n",
      "Wall time: 1min 22s\n"
     ]
    }
   ],
   "source": [
    "%%time\n",
    "vec_dfs = []\n",
    "for i,file_input in enumerate(vec_images):\n",
    "    for j,palette in enumerate(vec_palettes):\n",
    "        file_out = file_input.replace('./Images_Input/','./Images_Output/'+palette+'_')\n",
    "        legofy.main(image_path=file_input,output_path=file_out,palette_mode=str.lower(palette),size=250)\n",
    "        df_summary = legofy.get_block_summary()\n",
    "        df_summary['file_input'] = file_input\n",
    "        df_summary['file_output'] = file_out\n",
    "        df_summary['palette'] = palette\n",
    "        print(legofy.get_brick_image_dims())\n",
    "        vec_dfs.append(df_summary.copy())\n",
    "        del(df_summary)\n",
    "df_builds = pd.concat(vec_dfs,ignore_index=True,sort=False)\n",
    "print(df_builds.shape)"
   ]
  },
  {
   "cell_type": "code",
   "execution_count": 9,
   "id": "42c530ac",
   "metadata": {},
   "outputs": [
    {
     "data": {
      "text/html": [
       "<div>\n",
       "<style scoped>\n",
       "    .dataframe tbody tr th:only-of-type {\n",
       "        vertical-align: middle;\n",
       "    }\n",
       "\n",
       "    .dataframe tbody tr th {\n",
       "        vertical-align: top;\n",
       "    }\n",
       "\n",
       "    .dataframe thead th {\n",
       "        text-align: right;\n",
       "    }\n",
       "</style>\n",
       "<table border=\"1\" class=\"dataframe\">\n",
       "  <thead>\n",
       "    <tr style=\"text-align: right;\">\n",
       "      <th></th>\n",
       "      <th>lego_id</th>\n",
       "      <th>count</th>\n",
       "      <th>file_input</th>\n",
       "      <th>file_output</th>\n",
       "      <th>palette</th>\n",
       "    </tr>\n",
       "  </thead>\n",
       "  <tbody>\n",
       "    <tr>\n",
       "      <th>0</th>\n",
       "      <td>1</td>\n",
       "      <td>83</td>\n",
       "      <td>./Images_Input/MilleniumFalcon.png</td>\n",
       "      <td>./Images_Output/All_MilleniumFalcon.png</td>\n",
       "      <td>All</td>\n",
       "    </tr>\n",
       "    <tr>\n",
       "      <th>1</th>\n",
       "      <td>5</td>\n",
       "      <td>421</td>\n",
       "      <td>./Images_Input/MilleniumFalcon.png</td>\n",
       "      <td>./Images_Output/All_MilleniumFalcon.png</td>\n",
       "      <td>All</td>\n",
       "    </tr>\n",
       "    <tr>\n",
       "      <th>2</th>\n",
       "      <td>26</td>\n",
       "      <td>21736</td>\n",
       "      <td>./Images_Input/MilleniumFalcon.png</td>\n",
       "      <td>./Images_Output/All_MilleniumFalcon.png</td>\n",
       "      <td>All</td>\n",
       "    </tr>\n",
       "    <tr>\n",
       "      <th>3</th>\n",
       "      <td>38</td>\n",
       "      <td>2</td>\n",
       "      <td>./Images_Input/MilleniumFalcon.png</td>\n",
       "      <td>./Images_Output/All_MilleniumFalcon.png</td>\n",
       "      <td>All</td>\n",
       "    </tr>\n",
       "    <tr>\n",
       "      <th>4</th>\n",
       "      <td>40</td>\n",
       "      <td>114</td>\n",
       "      <td>./Images_Input/MilleniumFalcon.png</td>\n",
       "      <td>./Images_Output/All_MilleniumFalcon.png</td>\n",
       "      <td>All</td>\n",
       "    </tr>\n",
       "  </tbody>\n",
       "</table>\n",
       "</div>"
      ],
      "text/plain": [
       "   lego_id  count                          file_input  \\\n",
       "0        1     83  ./Images_Input/MilleniumFalcon.png   \n",
       "1        5    421  ./Images_Input/MilleniumFalcon.png   \n",
       "2       26  21736  ./Images_Input/MilleniumFalcon.png   \n",
       "3       38      2  ./Images_Input/MilleniumFalcon.png   \n",
       "4       40    114  ./Images_Input/MilleniumFalcon.png   \n",
       "\n",
       "                               file_output palette  \n",
       "0  ./Images_Output/All_MilleniumFalcon.png     All  \n",
       "1  ./Images_Output/All_MilleniumFalcon.png     All  \n",
       "2  ./Images_Output/All_MilleniumFalcon.png     All  \n",
       "3  ./Images_Output/All_MilleniumFalcon.png     All  \n",
       "4  ./Images_Output/All_MilleniumFalcon.png     All  "
      ]
     },
     "execution_count": 9,
     "metadata": {},
     "output_type": "execute_result"
    }
   ],
   "source": [
    "df_builds.head()"
   ]
  },
  {
   "cell_type": "code",
   "execution_count": 10,
   "id": "cd79a39a",
   "metadata": {},
   "outputs": [
    {
     "data": {
      "text/html": [
       "<div>\n",
       "<style scoped>\n",
       "    .dataframe tbody tr th:only-of-type {\n",
       "        vertical-align: middle;\n",
       "    }\n",
       "\n",
       "    .dataframe tbody tr th {\n",
       "        vertical-align: top;\n",
       "    }\n",
       "\n",
       "    .dataframe thead th {\n",
       "        text-align: right;\n",
       "    }\n",
       "</style>\n",
       "<table border=\"1\" class=\"dataframe\">\n",
       "  <thead>\n",
       "    <tr style=\"text-align: right;\">\n",
       "      <th></th>\n",
       "      <th>count</th>\n",
       "    </tr>\n",
       "    <tr>\n",
       "      <th>file_output</th>\n",
       "      <th></th>\n",
       "    </tr>\n",
       "  </thead>\n",
       "  <tbody>\n",
       "    <tr>\n",
       "      <th>./Images_Output/All_MilleniumFalcon.png</th>\n",
       "      <td>29000</td>\n",
       "    </tr>\n",
       "    <tr>\n",
       "      <th>./Images_Output/Effects_MilleniumFalcon.png</th>\n",
       "      <td>29000</td>\n",
       "    </tr>\n",
       "    <tr>\n",
       "      <th>./Images_Output/Solid_MilleniumFalcon.png</th>\n",
       "      <td>29000</td>\n",
       "    </tr>\n",
       "  </tbody>\n",
       "</table>\n",
       "</div>"
      ],
      "text/plain": [
       "                                             count\n",
       "file_output                                       \n",
       "./Images_Output/All_MilleniumFalcon.png      29000\n",
       "./Images_Output/Effects_MilleniumFalcon.png  29000\n",
       "./Images_Output/Solid_MilleniumFalcon.png    29000"
      ]
     },
     "execution_count": 10,
     "metadata": {},
     "output_type": "execute_result"
    }
   ],
   "source": [
    "df_builds.pivot_table(index='file_output',values='count',aggfunc=sum)"
   ]
  },
  {
   "cell_type": "code",
   "execution_count": null,
   "id": "eef758ec",
   "metadata": {},
   "outputs": [],
   "source": []
  }
 ],
 "metadata": {
  "kernelspec": {
   "display_name": "Python 3 (ipykernel)",
   "language": "python",
   "name": "python3"
  },
  "language_info": {
   "codemirror_mode": {
    "name": "ipython",
    "version": 3
   },
   "file_extension": ".py",
   "mimetype": "text/x-python",
   "name": "python",
   "nbconvert_exporter": "python",
   "pygments_lexer": "ipython3",
   "version": "3.9.7"
  }
 },
 "nbformat": 4,
 "nbformat_minor": 5
}
